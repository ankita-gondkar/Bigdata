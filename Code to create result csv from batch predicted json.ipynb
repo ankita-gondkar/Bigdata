{
 "cells": [
  {
   "cell_type": "code",
   "execution_count": 1,
   "id": "abf3206b-a1a8-4ef0-b860-84d98d7444fe",
   "metadata": {},
   "outputs": [
    {
     "ename": "ModuleNotFoundError",
     "evalue": "No module named 'ndjson'",
     "output_type": "error",
     "traceback": [
      "\u001b[0;31m---------------------------------------------------------------------------\u001b[0m",
      "\u001b[0;31mModuleNotFoundError\u001b[0m                       Traceback (most recent call last)",
      "Cell \u001b[0;32mIn[1], line 2\u001b[0m\n\u001b[1;32m      1\u001b[0m \u001b[38;5;66;03m# Import required libraries\u001b[39;00m\n\u001b[0;32m----> 2\u001b[0m \u001b[38;5;28;01mimport\u001b[39;00m \u001b[38;5;21;01mndjson\u001b[39;00m\n\u001b[1;32m      3\u001b[0m \u001b[38;5;28;01mimport\u001b[39;00m \u001b[38;5;21;01mpandas\u001b[39;00m \u001b[38;5;28;01mas\u001b[39;00m \u001b[38;5;21;01mpd\u001b[39;00m\n\u001b[1;32m      4\u001b[0m \u001b[38;5;28;01mfrom\u001b[39;00m \u001b[38;5;21;01mgoogle\u001b[39;00m\u001b[38;5;21;01m.\u001b[39;00m\u001b[38;5;21;01mcloud\u001b[39;00m \u001b[38;5;28;01mimport\u001b[39;00m aiplatform\n",
      "\u001b[0;31mModuleNotFoundError\u001b[0m: No module named 'ndjson'"
     ]
    }
   ],
   "source": [
    "########### THIS CODE WAS USED TO CREATE A RESULT CSV FILE FROM THE JSON FILE(total 8 json predicted files got generate from batch prediction which you can see in 'skin_cancer_project2/prediction/prediction-Skin_Cancer-2023-11-02T04:59:31.158832Z') OF BATCH PREDICTION FROM THE BUCKET skin_cancer_project2\n",
    "########## RESULT FILE WAS SAVED AS results.csv\n",
    "\n",
    "\n",
    "# Import required libraries\n",
    "import ndjson\n",
    "import pandas as pd\n",
    "from google.cloud import aiplatform\n",
    "from google.cloud import storage\n",
    "\n",
    "# Initialize Vertex AI connection\n",
    "aiplatform.init(location='us-central1')\n",
    "\n",
    "# Define Cloud Storage client\n",
    "client = storage.Client()"
   ]
  },
  {
   "cell_type": "code",
   "execution_count": null,
   "id": "3bf008e2-bc46-4d41-8487-ccc12fcc94b7",
   "metadata": {},
   "outputs": [],
   "source": [
    "pip install ndjson\n"
   ]
  },
  {
   "cell_type": "code",
   "execution_count": 17,
   "id": "5718df2f-a82d-4103-a0eb-9a6c114e4bea",
   "metadata": {},
   "outputs": [],
   "source": [
    "# Initialize Vertex AI connection\n",
    "aiplatform.init(location='us-central1')\n",
    "\n",
    "# Define Cloud Storage client\n",
    "client = storage.Client()"
   ]
  },
  {
   "cell_type": "code",
   "execution_count": 11,
   "id": "979b4a9a-4f1b-49fe-b048-5c80fa61fc5d",
   "metadata": {},
   "outputs": [
    {
     "name": "stdout",
     "output_type": "stream",
     "text": [
      "Requirement already satisfied: google-cloud-aiplatform in /opt/conda/lib/python3.10/site-packages (1.33.1)\n",
      "Requirement already satisfied: google-api-core[grpc]!=2.0.*,!=2.1.*,!=2.2.*,!=2.3.*,!=2.4.*,!=2.5.*,!=2.6.*,!=2.7.*,<3.0.0dev,>=1.32.0 in /opt/conda/lib/python3.10/site-packages (from google-cloud-aiplatform) (1.34.0)\n",
      "Requirement already satisfied: proto-plus<2.0.0dev,>=1.22.0 in /opt/conda/lib/python3.10/site-packages (from google-cloud-aiplatform) (1.22.3)\n",
      "Requirement already satisfied: protobuf!=3.20.0,!=3.20.1,!=4.21.0,!=4.21.1,!=4.21.2,!=4.21.3,!=4.21.4,!=4.21.5,<5.0.0dev,>=3.19.5 in /opt/conda/lib/python3.10/site-packages (from google-cloud-aiplatform) (3.20.3)\n",
      "Requirement already satisfied: packaging>=14.3 in /opt/conda/lib/python3.10/site-packages (from google-cloud-aiplatform) (23.1)\n",
      "Requirement already satisfied: google-cloud-storage<3.0.0dev,>=1.32.0 in /opt/conda/lib/python3.10/site-packages (from google-cloud-aiplatform) (2.11.0)\n",
      "Requirement already satisfied: google-cloud-bigquery<4.0.0dev,>=1.15.0 in /opt/conda/lib/python3.10/site-packages (from google-cloud-aiplatform) (3.11.4)\n",
      "Requirement already satisfied: google-cloud-resource-manager<3.0.0dev,>=1.3.3 in /opt/conda/lib/python3.10/site-packages (from google-cloud-aiplatform) (1.10.4)\n",
      "Requirement already satisfied: shapely<2.0.0 in /opt/conda/lib/python3.10/site-packages (from google-cloud-aiplatform) (1.8.5.post1)\n",
      "Requirement already satisfied: googleapis-common-protos<2.0dev,>=1.56.2 in /opt/conda/lib/python3.10/site-packages (from google-api-core[grpc]!=2.0.*,!=2.1.*,!=2.2.*,!=2.3.*,!=2.4.*,!=2.5.*,!=2.6.*,!=2.7.*,<3.0.0dev,>=1.32.0->google-cloud-aiplatform) (1.60.0)\n",
      "Requirement already satisfied: google-auth<3.0dev,>=1.25.0 in /opt/conda/lib/python3.10/site-packages (from google-api-core[grpc]!=2.0.*,!=2.1.*,!=2.2.*,!=2.3.*,!=2.4.*,!=2.5.*,!=2.6.*,!=2.7.*,<3.0.0dev,>=1.32.0->google-cloud-aiplatform) (2.23.0)\n",
      "Requirement already satisfied: requests<3.0.0dev,>=2.18.0 in /opt/conda/lib/python3.10/site-packages (from google-api-core[grpc]!=2.0.*,!=2.1.*,!=2.2.*,!=2.3.*,!=2.4.*,!=2.5.*,!=2.6.*,!=2.7.*,<3.0.0dev,>=1.32.0->google-cloud-aiplatform) (2.31.0)\n",
      "Requirement already satisfied: grpcio<2.0dev,>=1.33.2 in /opt/conda/lib/python3.10/site-packages (from google-api-core[grpc]!=2.0.*,!=2.1.*,!=2.2.*,!=2.3.*,!=2.4.*,!=2.5.*,!=2.6.*,!=2.7.*,<3.0.0dev,>=1.32.0->google-cloud-aiplatform) (1.58.0)\n",
      "Requirement already satisfied: grpcio-status<2.0dev,>=1.33.2 in /opt/conda/lib/python3.10/site-packages (from google-api-core[grpc]!=2.0.*,!=2.1.*,!=2.2.*,!=2.3.*,!=2.4.*,!=2.5.*,!=2.6.*,!=2.7.*,<3.0.0dev,>=1.32.0->google-cloud-aiplatform) (1.48.2)\n",
      "Requirement already satisfied: google-cloud-core<3.0.0dev,>=1.6.0 in /opt/conda/lib/python3.10/site-packages (from google-cloud-bigquery<4.0.0dev,>=1.15.0->google-cloud-aiplatform) (2.3.3)\n",
      "Requirement already satisfied: google-resumable-media<3.0dev,>=0.6.0 in /opt/conda/lib/python3.10/site-packages (from google-cloud-bigquery<4.0.0dev,>=1.15.0->google-cloud-aiplatform) (2.6.0)\n",
      "Requirement already satisfied: python-dateutil<3.0dev,>=2.7.2 in /opt/conda/lib/python3.10/site-packages (from google-cloud-bigquery<4.0.0dev,>=1.15.0->google-cloud-aiplatform) (2.8.2)\n",
      "Requirement already satisfied: grpc-google-iam-v1<1.0.0dev,>=0.12.4 in /opt/conda/lib/python3.10/site-packages (from google-cloud-resource-manager<3.0.0dev,>=1.3.3->google-cloud-aiplatform) (0.12.6)\n",
      "Requirement already satisfied: cachetools<6.0,>=2.0.0 in /opt/conda/lib/python3.10/site-packages (from google-auth<3.0dev,>=1.25.0->google-api-core[grpc]!=2.0.*,!=2.1.*,!=2.2.*,!=2.3.*,!=2.4.*,!=2.5.*,!=2.6.*,!=2.7.*,<3.0.0dev,>=1.32.0->google-cloud-aiplatform) (5.3.1)\n",
      "Requirement already satisfied: pyasn1-modules>=0.2.1 in /opt/conda/lib/python3.10/site-packages (from google-auth<3.0dev,>=1.25.0->google-api-core[grpc]!=2.0.*,!=2.1.*,!=2.2.*,!=2.3.*,!=2.4.*,!=2.5.*,!=2.6.*,!=2.7.*,<3.0.0dev,>=1.32.0->google-cloud-aiplatform) (0.3.0)\n",
      "Requirement already satisfied: rsa<5,>=3.1.4 in /opt/conda/lib/python3.10/site-packages (from google-auth<3.0dev,>=1.25.0->google-api-core[grpc]!=2.0.*,!=2.1.*,!=2.2.*,!=2.3.*,!=2.4.*,!=2.5.*,!=2.6.*,!=2.7.*,<3.0.0dev,>=1.32.0->google-cloud-aiplatform) (4.9)\n",
      "Requirement already satisfied: urllib3<2.0 in /opt/conda/lib/python3.10/site-packages (from google-auth<3.0dev,>=1.25.0->google-api-core[grpc]!=2.0.*,!=2.1.*,!=2.2.*,!=2.3.*,!=2.4.*,!=2.5.*,!=2.6.*,!=2.7.*,<3.0.0dev,>=1.32.0->google-cloud-aiplatform) (1.26.16)\n",
      "Requirement already satisfied: google-crc32c<2.0dev,>=1.0 in /opt/conda/lib/python3.10/site-packages (from google-resumable-media<3.0dev,>=0.6.0->google-cloud-bigquery<4.0.0dev,>=1.15.0->google-cloud-aiplatform) (1.5.0)\n",
      "Requirement already satisfied: six>=1.5 in /opt/conda/lib/python3.10/site-packages (from python-dateutil<3.0dev,>=2.7.2->google-cloud-bigquery<4.0.0dev,>=1.15.0->google-cloud-aiplatform) (1.16.0)\n",
      "Requirement already satisfied: charset-normalizer<4,>=2 in /opt/conda/lib/python3.10/site-packages (from requests<3.0.0dev,>=2.18.0->google-api-core[grpc]!=2.0.*,!=2.1.*,!=2.2.*,!=2.3.*,!=2.4.*,!=2.5.*,!=2.6.*,!=2.7.*,<3.0.0dev,>=1.32.0->google-cloud-aiplatform) (3.2.0)\n",
      "Requirement already satisfied: idna<4,>=2.5 in /opt/conda/lib/python3.10/site-packages (from requests<3.0.0dev,>=2.18.0->google-api-core[grpc]!=2.0.*,!=2.1.*,!=2.2.*,!=2.3.*,!=2.4.*,!=2.5.*,!=2.6.*,!=2.7.*,<3.0.0dev,>=1.32.0->google-cloud-aiplatform) (3.4)\n",
      "Requirement already satisfied: certifi>=2017.4.17 in /opt/conda/lib/python3.10/site-packages (from requests<3.0.0dev,>=2.18.0->google-api-core[grpc]!=2.0.*,!=2.1.*,!=2.2.*,!=2.3.*,!=2.4.*,!=2.5.*,!=2.6.*,!=2.7.*,<3.0.0dev,>=1.32.0->google-cloud-aiplatform) (2023.7.22)\n",
      "Requirement already satisfied: pyasn1<0.6.0,>=0.4.6 in /opt/conda/lib/python3.10/site-packages (from pyasn1-modules>=0.2.1->google-auth<3.0dev,>=1.25.0->google-api-core[grpc]!=2.0.*,!=2.1.*,!=2.2.*,!=2.3.*,!=2.4.*,!=2.5.*,!=2.6.*,!=2.7.*,<3.0.0dev,>=1.32.0->google-cloud-aiplatform) (0.5.0)\n",
      "Note: you may need to restart the kernel to use updated packages.\n"
     ]
    }
   ],
   "source": [
    "pip install google-cloud-aiplatform"
   ]
  },
  {
   "cell_type": "code",
   "execution_count": 14,
   "id": "415f955b-9c1c-4296-aaa2-93e9952069b0",
   "metadata": {},
   "outputs": [
    {
     "ename": "ModuleNotFoundError",
     "evalue": "No module named 'aiplatform'",
     "output_type": "error",
     "traceback": [
      "\u001b[0;31m---------------------------------------------------------------------------\u001b[0m",
      "\u001b[0;31mModuleNotFoundError\u001b[0m                       Traceback (most recent call last)",
      "Cell \u001b[0;32mIn[14], line 1\u001b[0m\n\u001b[0;32m----> 1\u001b[0m \u001b[38;5;28;01mimport\u001b[39;00m \u001b[38;5;21;01maiplatform\u001b[39;00m\n",
      "\u001b[0;31mModuleNotFoundError\u001b[0m: No module named 'aiplatform'"
     ]
    }
   ],
   "source": [
    "import aiplatform"
   ]
  },
  {
   "cell_type": "code",
   "execution_count": 19,
   "id": "715d8db4-e3be-4cfd-a2db-39c2d1232da2",
   "metadata": {},
   "outputs": [],
   "source": [
    "# Initialize Vertex AI connection\n",
    "#aiplatform.init(location='us-central1')\n",
    "from google.cloud import storage\n",
    "# Define Cloud Storage client\n",
    "client = storage.Client()"
   ]
  },
  {
   "cell_type": "code",
   "execution_count": 21,
   "id": "e4c3b388-ccb8-4222-80f7-5c3816c660d0",
   "metadata": {},
   "outputs": [],
   "source": [
    "\n",
    "# Get the batch prediction job\n",
    "job_id = '3235574442339860480' #E.g. 4897355631998009322\n"
   ]
  },
  {
   "cell_type": "code",
   "execution_count": 22,
   "id": "fe69ced5-36a8-4436-8881-7efa4a72b270",
   "metadata": {},
   "outputs": [],
   "source": [
    "batch_prediction_job = aiplatform.BatchPredictionJob(job_id)"
   ]
  },
  {
   "cell_type": "code",
   "execution_count": 23,
   "id": "b387eff0-783d-4cdf-926a-c54cfb1e447e",
   "metadata": {},
   "outputs": [
    {
     "data": {
      "text/plain": [
       "'gs://skin_cancer_project2/prediction/prediction-Skin_Cancer-2023-11-02T04:59:31.158832Z'"
      ]
     },
     "execution_count": 23,
     "metadata": {},
     "output_type": "execute_result"
    }
   ],
   "source": [
    "# Get the job output folder\n",
    "results_folder = batch_prediction_job.output_info.gcs_output_directory\n",
    "results_folder"
   ]
  },
  {
   "cell_type": "code",
   "execution_count": 24,
   "id": "544ef7fd-def8-47aa-93c4-a4956da325a1",
   "metadata": {},
   "outputs": [
    {
     "data": {
      "text/plain": [
       "'prediction/prediction-Skin_Cancer-2023-11-02T04:59:31.158832Z'"
      ]
     },
     "execution_count": 24,
     "metadata": {},
     "output_type": "execute_result"
    }
   ],
   "source": [
    "# Create prefix to filter blobs\n",
    "prefix_filter = results_folder.replace('gs://skin_cancer_project2/','')\n",
    "prefix_filter"
   ]
  },
  {
   "cell_type": "code",
   "execution_count": 25,
   "id": "4f816d24-7fc3-4e2f-b1cc-3a1c4af2306c",
   "metadata": {},
   "outputs": [],
   "source": [
    "# Define Cloud Storage client and bucket where the results are stored\n",
    "client = storage.Client()\n",
    "bucket = client.get_bucket('skin_cancer_project2')"
   ]
  },
  {
   "cell_type": "code",
   "execution_count": 26,
   "id": "08e4bf82-f8e7-412f-b84a-c44ce04bf8be",
   "metadata": {},
   "outputs": [],
   "source": [
    "# Create iterator\n",
    "blobs = client.list_blobs('skin_cancer_project2', prefix=prefix_filter)"
   ]
  },
  {
   "cell_type": "code",
   "execution_count": 27,
   "id": "9ff97c9b-8c2c-42ce-8611-44c38514e02c",
   "metadata": {},
   "outputs": [
    {
     "name": "stdout",
     "output_type": "stream",
     "text": [
      "prediction/prediction-Skin_Cancer-2023-11-02T04:59:31.158832Z/predictions_00001.jsonl\n",
      "prediction/prediction-Skin_Cancer-2023-11-02T04:59:31.158832Z/predictions_00002.jsonl\n",
      "prediction/prediction-Skin_Cancer-2023-11-02T04:59:31.158832Z/predictions_00003.jsonl\n",
      "prediction/prediction-Skin_Cancer-2023-11-02T04:59:31.158832Z/predictions_00004.jsonl\n",
      "prediction/prediction-Skin_Cancer-2023-11-02T04:59:31.158832Z/predictions_00005.jsonl\n",
      "prediction/prediction-Skin_Cancer-2023-11-02T04:59:31.158832Z/predictions_00006.jsonl\n",
      "prediction/prediction-Skin_Cancer-2023-11-02T04:59:31.158832Z/predictions_00007.jsonl\n",
      "prediction/prediction-Skin_Cancer-2023-11-02T04:59:31.158832Z/predictions_00008.jsonl\n",
      "prediction/prediction-Skin_Cancer-2023-11-02T04:59:31.158832Z/predictions_00009.jsonl\n",
      "prediction/prediction-Skin_Cancer-2023-11-02T04:59:31.158832Z/predictions_00010.jsonl\n"
     ]
    }
   ],
   "source": [
    "# Show all files with predictions\n",
    "for blob in blobs:\n",
    "    print(blob.name)"
   ]
  },
  {
   "cell_type": "code",
   "execution_count": 28,
   "id": "e30ca508-5a73-40e1-b3aa-4548f8cc658e",
   "metadata": {},
   "outputs": [
    {
     "data": {
      "text/plain": [
       "[{'instance': {'content': 'gs://skin_cancer_project2/Test_Images/ISIC_0035321.jpg'},\n",
       "  'prediction': {'ids': ['7852593573198299136',\n",
       "    '121320387886710784',\n",
       "    '6277459603525468160',\n",
       "    '8235681016501501952',\n",
       "    '5842017814554083328',\n",
       "    '7548882073327501312',\n",
       "    '6994939319160930304'],\n",
       "   'displayNames': ['bcc_images',\n",
       "    'nv_images',\n",
       "    'df_images',\n",
       "    'akiec_images',\n",
       "    'mel_images',\n",
       "    'vasc_images',\n",
       "    'bkl_images'],\n",
       "   'confidences': [0.9025179,\n",
       "    0.053746846,\n",
       "    0.014281384,\n",
       "    0.009276812,\n",
       "    0.007934716,\n",
       "    0.006167055,\n",
       "    0.006075252]}},\n",
       " {'instance': {'content': 'gs://skin_cancer_project2/Test_Images/ISIC_0035857.jpg'},\n",
       "  'prediction': {'ids': ['121320387886710784',\n",
       "    '6277459603525468160',\n",
       "    '7852593573198299136',\n",
       "    '8235681016501501952',\n",
       "    '5842017814554083328',\n",
       "    '7548882073327501312',\n",
       "    '6994939319160930304'],\n",
       "   'displayNames': ['nv_images',\n",
       "    'df_images',\n",
       "    'bcc_images',\n",
       "    'akiec_images',\n",
       "    'mel_images',\n",
       "    'vasc_images',\n",
       "    'bkl_images'],\n",
       "   'confidences': [0.80956286,\n",
       "    0.111893065,\n",
       "    0.021818554,\n",
       "    0.0197204,\n",
       "    0.01609032,\n",
       "    0.015347283,\n",
       "    0.0055674836]}},\n",
       " {'instance': {'content': 'gs://skin_cancer_project2/Test_Images/ISIC_0035814.jpg'},\n",
       "  'prediction': {'ids': ['121320387886710784',\n",
       "    '7548882073327501312',\n",
       "    '5842017814554083328',\n",
       "    '7852593573198299136',\n",
       "    '6277459603525468160',\n",
       "    '8235681016501501952',\n",
       "    '6994939319160930304'],\n",
       "   'displayNames': ['nv_images',\n",
       "    'vasc_images',\n",
       "    'mel_images',\n",
       "    'bcc_images',\n",
       "    'df_images',\n",
       "    'akiec_images',\n",
       "    'bkl_images'],\n",
       "   'confidences': [0.7199213,\n",
       "    0.16846946,\n",
       "    0.04924347,\n",
       "    0.02269362,\n",
       "    0.019026088,\n",
       "    0.015468586,\n",
       "    0.005177428]}}]"
      ]
     },
     "execution_count": 28,
     "metadata": {},
     "output_type": "execute_result"
    }
   ],
   "source": [
    "blobs = client.list_blobs('skin_cancer_project2', prefix=prefix_filter)\n",
    "\n",
    "# Display few predictions to show prediction format\n",
    "for blob in blobs:\n",
    "    # Load data and transform into json\n",
    "    json_data_string = blob.download_as_string()\n",
    "    json_data = ndjson.loads(json_data_string)\n",
    "    pred_examples = json_data[0:3]\n",
    "    break\n",
    "    \n",
    "pred_examples"
   ]
  },
  {
   "cell_type": "code",
   "execution_count": 29,
   "id": "9b652380-d7ed-49fb-b8b4-0ee82e5d560c",
   "metadata": {},
   "outputs": [],
   "source": [
    "blobs = client.list_blobs('skin_cancer_project2', prefix=prefix_filter)\n",
    "\n",
    "# Create placeholders for prediction results\n",
    "cs_uri_list = []\n",
    "predicted_label_list = []\n",
    "prediction_confidence_list = []\n",
    "\n",
    "# Iterate over each file in Cloud Storage\n",
    "for blob in blobs:\n",
    "    # Load data and transform into json\n",
    "    json_data_string = blob.download_as_string()\n",
    "    json_data = ndjson.loads(json_data_string) \n",
    "    \n",
    "    # Iterate over each prediction in file\n",
    "    for prediction in json_data:\n",
    "        # Get data from prediction\n",
    "        cs_uri = prediction.get('instance').get('content')\n",
    "        predicted_label = prediction.get('prediction').get('displayNames')[0] # This array is sorted so the highest probability label is always on 1st position.\n",
    "        prediction_confidence = prediction.get('prediction').get('confidences')[0]\n",
    "        \n",
    "        # Append to appropriate list\n",
    "        cs_uri_list.append(cs_uri)\n",
    "        predicted_label_list.append(predicted_label)\n",
    "        prediction_confidence_list.append(prediction_confidence)"
   ]
  },
  {
   "cell_type": "code",
   "execution_count": 30,
   "id": "fbe37195-44b4-4910-b6c9-1e4d0a67c260",
   "metadata": {},
   "outputs": [
    {
     "data": {
      "text/html": [
       "<div>\n",
       "<style scoped>\n",
       "    .dataframe tbody tr th:only-of-type {\n",
       "        vertical-align: middle;\n",
       "    }\n",
       "\n",
       "    .dataframe tbody tr th {\n",
       "        vertical-align: top;\n",
       "    }\n",
       "\n",
       "    .dataframe thead th {\n",
       "        text-align: right;\n",
       "    }\n",
       "</style>\n",
       "<table border=\"1\" class=\"dataframe\">\n",
       "  <thead>\n",
       "    <tr style=\"text-align: right;\">\n",
       "      <th></th>\n",
       "      <th>cs_uri</th>\n",
       "      <th>predicted_label</th>\n",
       "      <th>confidence</th>\n",
       "    </tr>\n",
       "  </thead>\n",
       "  <tbody>\n",
       "    <tr>\n",
       "      <th>0</th>\n",
       "      <td>gs://skin_cancer_project2/Test_Images/ISIC_003...</td>\n",
       "      <td>bcc_images</td>\n",
       "      <td>0.902518</td>\n",
       "    </tr>\n",
       "    <tr>\n",
       "      <th>1</th>\n",
       "      <td>gs://skin_cancer_project2/Test_Images/ISIC_003...</td>\n",
       "      <td>nv_images</td>\n",
       "      <td>0.809563</td>\n",
       "    </tr>\n",
       "    <tr>\n",
       "      <th>2</th>\n",
       "      <td>gs://skin_cancer_project2/Test_Images/ISIC_003...</td>\n",
       "      <td>nv_images</td>\n",
       "      <td>0.719921</td>\n",
       "    </tr>\n",
       "    <tr>\n",
       "      <th>3</th>\n",
       "      <td>gs://skin_cancer_project2/Test_Images/ISIC_003...</td>\n",
       "      <td>bkl_images</td>\n",
       "      <td>0.868703</td>\n",
       "    </tr>\n",
       "    <tr>\n",
       "      <th>4</th>\n",
       "      <td>gs://skin_cancer_project2/Test_Images/ISIC_003...</td>\n",
       "      <td>bcc_images</td>\n",
       "      <td>0.914819</td>\n",
       "    </tr>\n",
       "  </tbody>\n",
       "</table>\n",
       "</div>"
      ],
      "text/plain": [
       "                                              cs_uri predicted_label  \\\n",
       "0  gs://skin_cancer_project2/Test_Images/ISIC_003...      bcc_images   \n",
       "1  gs://skin_cancer_project2/Test_Images/ISIC_003...       nv_images   \n",
       "2  gs://skin_cancer_project2/Test_Images/ISIC_003...       nv_images   \n",
       "3  gs://skin_cancer_project2/Test_Images/ISIC_003...      bkl_images   \n",
       "4  gs://skin_cancer_project2/Test_Images/ISIC_003...      bcc_images   \n",
       "\n",
       "   confidence  \n",
       "0    0.902518  \n",
       "1    0.809563  \n",
       "2    0.719921  \n",
       "3    0.868703  \n",
       "4    0.914819  "
      ]
     },
     "execution_count": 30,
     "metadata": {},
     "output_type": "execute_result"
    }
   ],
   "source": [
    "# Create data frame with results. \n",
    "results_df = pd.DataFrame({'cs_uri': cs_uri_list, 'predicted_label': predicted_label_list, 'confidence': prediction_confidence_list})\n",
    "results_df.head()"
   ]
  },
  {
   "cell_type": "code",
   "execution_count": 31,
   "id": "da1cb839-d798-492f-a040-10c5822fa685",
   "metadata": {},
   "outputs": [],
   "source": [
    "# Define the CSV file path on Cloud Storage\n",
    "csv_file_path = 'gs://skin_cancer_project2/results.csv'  # Specify the desired file name and path\n"
   ]
  },
  {
   "cell_type": "code",
   "execution_count": 32,
   "id": "a24cf16d-3304-4365-a7b8-fe93bd156f99",
   "metadata": {},
   "outputs": [],
   "source": [
    "# Save the DataFrame as a CSV file\n",
    "results_df.to_csv(csv_file_path, index=False)\n"
   ]
  },
  {
   "cell_type": "code",
   "execution_count": null,
   "id": "5ab17cdc-58a4-4fcd-8fc1-1dad75cf7dee",
   "metadata": {},
   "outputs": [],
   "source": [
    "# Upload the CSV file to the Google Cloud Storage bucket\n",
    "blob = bucket.blob('results.csv')\n",
    "blob.upload_from_filename(csv_file_path)\n",
    "\n",
    "print(f\"CSV file saved and uploaded to {csv_file_path}\")\n"
   ]
  },
  {
   "cell_type": "code",
   "execution_count": null,
   "id": "a97db534-75db-483b-a404-dc8078a7ec1b",
   "metadata": {},
   "outputs": [],
   "source": []
  },
  {
   "cell_type": "code",
   "execution_count": null,
   "id": "ffba7921-c52e-44b0-934d-5be652004aa8",
   "metadata": {},
   "outputs": [],
   "source": []
  }
 ],
 "metadata": {
  "kernelspec": {
   "display_name": "Python (Local)",
   "language": "python",
   "name": "local-base"
  },
  "language_info": {
   "codemirror_mode": {
    "name": "ipython",
    "version": 3
   },
   "file_extension": ".py",
   "mimetype": "text/x-python",
   "name": "python",
   "nbconvert_exporter": "python",
   "pygments_lexer": "ipython3",
   "version": "3.10.12"
  }
 },
 "nbformat": 4,
 "nbformat_minor": 5
}
